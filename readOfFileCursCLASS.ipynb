{
 "cells": [
  {
   "cell_type": "code",
   "execution_count": 12,
   "metadata": {},
   "outputs": [
    {
     "ename": "TypeError",
     "evalue": "ReadFileJson.readDataFile() takes 1 positional argument but 2 were given",
     "output_type": "error",
     "traceback": [
      "\u001b[1;31m---------------------------------------------------------------------------\u001b[0m",
      "\u001b[1;31mTypeError\u001b[0m                                 Traceback (most recent call last)",
      "Cell \u001b[1;32mIn[12], line 71\u001b[0m\n\u001b[0;32m     16\u001b[0m \u001b[38;5;66;03m# class PrintCurs:\u001b[39;00m\n\u001b[0;32m     17\u001b[0m \u001b[38;5;66;03m#     def printCurs(data):\u001b[39;00m\n\u001b[0;32m     18\u001b[0m \u001b[38;5;66;03m#         print(data[\"USD_value\"])\u001b[39;00m\n\u001b[1;32m   (...)\u001b[0m\n\u001b[0;32m     64\u001b[0m \u001b[38;5;66;03m#         usd_prediction = curs_k * (len(self.usd) + 1) + curs_b\u001b[39;00m\n\u001b[0;32m     65\u001b[0m \u001b[38;5;66;03m#         print(f\"{message}: {usd_prediction:.2f}\")\u001b[39;00m\n\u001b[0;32m     70\u001b[0m readFileJson \u001b[38;5;241m=\u001b[39m ReadFileJson()\n\u001b[1;32m---> 71\u001b[0m data \u001b[38;5;241m=\u001b[39m \u001b[43mreadFileJson\u001b[49m\u001b[38;5;241;43m.\u001b[39;49m\u001b[43mreadDataFile\u001b[49m\u001b[43m(\u001b[49m\u001b[38;5;124;43m\"\u001b[39;49m\u001b[38;5;124;43mcurrency_minfin.txt\u001b[39;49m\u001b[38;5;124;43m\"\u001b[39;49m\u001b[43m)\u001b[49m\n\u001b[0;32m     72\u001b[0m \u001b[38;5;66;03m#\u001b[39;00m\n",
      "\u001b[1;31mTypeError\u001b[0m: ReadFileJson.readDataFile() takes 1 positional argument but 2 were given"
     ]
    }
   ],
   "source": [
    "\n",
    "from datetime import datetime, timedelta\n",
    "import time\n",
    "import json\n",
    "import matplotlib.pyplot as plt\n",
    "\n",
    "\n",
    "class ReadFileJson:\n",
    "\n",
    "    def readDataFile(nameFile):    \n",
    "        with open(nameFile, \"r\") as file:\n",
    "           data = json.load(file)\n",
    "           file.close()\n",
    "           return data  \n",
    "\n",
    "\n",
    "# class PrintCurs:\n",
    "#     def printCurs(data):\n",
    "#         print(data[\"USD_value\"])\n",
    "#         print(\"Курс валют від  \" + data[\"start_date\"] + \"  до  \" + data[\"end_date\"])\n",
    "#         print(\"USD-CURS  \"+ str(data[\"USD_value\"]))\n",
    "#         print(\"EUR-CURS  \"+ str(data[\"EUR_value\"]))\n",
    "#         print(\"PLN-CURS  \"+ str(data[\"PLN_value\"]))\n",
    "#         print(\"GBP-CURS  \"+ str(data[\"GBP_value\"]))\n",
    "#         print(\"CHF-CURS  \"+ str(data[\"CHF_value\"]))\n",
    "\n",
    "# class PrintDiagram:\n",
    "#     def __init__(self, data):\n",
    "#         self.usd = data[\"USD_value\"]\n",
    "#         self.eur = data[\"EUR_value\"]\n",
    "#         self.pln = data[\"PLN_value\"]\n",
    "#         self.gbp = data[\"GBP_value\"]\n",
    "#         self.chf = data[\"CHF_value\"]\n",
    "#         self.x_axis  = list(range(1, len(self.usd) + 1))\n",
    "#         self.x_for_func = list(range(1, len(self.usd) + 2))  \n",
    "\n",
    "#     def f(x):\n",
    "#         s, s2 = 0, 0\n",
    "#         c = 0\n",
    "#         c1 = 0\n",
    "#         n = len(x)\n",
    "#         for i in range(n):\n",
    "#             c += (i + 1) * x[i]\n",
    "#             c1 += x[i]\n",
    "#             s += i + 1\n",
    "#             s2 += (i + 1) ** 2\n",
    "#         d = s2 * n - s * s\n",
    "#         dk = c * n - c1 * s\n",
    "#         db = s2 * c1 - c * s\n",
    "#         k = dk / d\n",
    "#         b = db / d\n",
    "#         return k, b\n",
    "\n",
    "#     def printGrafKurs(arrayCurs, title, message ):\n",
    "#         curs_k, curs_b = f(data[\"GBP_value\"])\n",
    "#         usd_y_function = [curs_k * xi + curs_b for xi in self.x_for_func] \n",
    "#         plt.plot(self.x_for_func, usd_y_function, label=f'y = {curs_k:.4f}x + {curs_b:.4f}', color='blue')\n",
    "#         plt.title(title)\n",
    "#         plt.scatter(self.x_axis, arrayCurs, color='red', label='usd')\n",
    "#         plt.xticks(range(min(self.x_axis), max(self.x_axis) + 2))\n",
    "#         plt.xlabel('день')\n",
    "#         plt.ylabel('курс')\n",
    "#         plt.legend()\n",
    "#         plt.show()\n",
    "#         usd_prediction = curs_k * (len(self.usd) + 1) + curs_b\n",
    "#         print(f\"{message}: {usd_prediction:.2f}\")\n",
    "\n",
    "\n",
    "\n",
    "\n",
    "readFileJson = ReadFileJson()\n",
    "data = readFileJson.readDataFile(\"currency_minfin.txt\")\n",
    "#\n",
    "\n",
    "\n",
    "\n",
    "\n",
    "\n",
    "\n",
    "\n",
    "\n",
    "\n",
    "\n"
   ]
  }
 ],
 "metadata": {
  "kernelspec": {
   "display_name": "Python 3.11.5 64-bit",
   "language": "python",
   "name": "python3"
  },
  "language_info": {
   "codemirror_mode": {
    "name": "ipython",
    "version": 3
   },
   "file_extension": ".py",
   "mimetype": "text/x-python",
   "name": "python",
   "nbconvert_exporter": "python",
   "pygments_lexer": "ipython3",
   "version": "3.11.5"
  },
  "orig_nbformat": 4,
  "vscode": {
   "interpreter": {
    "hash": "1e4f93ec01850e5a04c88373eedc4088b21809952ed00f2c5f268eb2f2380b3a"
   }
  }
 },
 "nbformat": 4,
 "nbformat_minor": 2
}
